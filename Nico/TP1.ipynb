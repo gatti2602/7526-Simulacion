{
 "cells": [
  {
   "cell_type": "code",
   "execution_count": 2,
   "metadata": {},
   "outputs": [],
   "source": [
    "import random as r\n",
    "import numpy as np\n",
    "import matplotlib.pyplot as mp\n",
    "import scipy.stats\n",
    "import math as m\n",
    "\n",
    "class GCL():\n",
    "\n",
    "    def __init__(self, current = 0):\n",
    "        self.current = current\n",
    "\n",
    "    def random(self, seed):\n",
    "        self.current = round(((1013904223 * seed) + 1664525) % (2 ^ 32))\n",
    "        return self.current / (2^32)\n",
    "\n",
    "    def next(self):\n",
    "        number = self.random(self.current)\n",
    "        return number\n",
    "\n"
   ]
  },
  {
   "cell_type": "code",
   "execution_count": 52,
   "metadata": {},
   "outputs": [],
   "source": [
    "def gap_test(samples, a, b):\n",
    "    n, t = len(samples)/10 , 8\n",
    "    j, s, count = -1, 0, t*[0]\n",
    "\n",
    "    while s != n and j != len(samples):\n",
    "        j, r = j+1, 0\n",
    "        while j != len(samples) and not (a < samples[j] < b ):\n",
    "            j, r = j+1, min(r+1, t)\n",
    "        #print(j, r)\n",
    "        count[r] += 1\n",
    "        s += 1\n",
    "        if j == len(samples): \n",
    "            raise \"Fin de Lista: Encontrados %d de %d\" % (s, n)\n",
    "\n",
    "    expected = t*[0]\n",
    "    p = b - a\n",
    "    expected[t-1] = ((1-p)**t) * n\n",
    "\n",
    "    for i in range(0, t-1):\n",
    "        expected[i] = (p*(1-p)**i) * n\n",
    "    #print(\"Sample\", samples)\n",
    "    print(\"Count\", count)\n",
    "    print(\"Expected\", expected)\n",
    "    s, p = scipy.stats.chisquare(count, expected)\n",
    "\n",
    "    return s, p"
   ]
  },
  {
   "cell_type": "code",
   "execution_count": 53,
   "metadata": {},
   "outputs": [
    {
     "name": "stdout",
     "output_type": "stream",
     "text": [
      "Count [500, 0, 0, 0, 1, 0, 499, 0]\n",
      "Expected [300.0, 210.0, 146.99999999999997, 102.89999999999998, 72.02999999999999, 50.42099999999998, 35.294699999999985, 57.64800999999997]\n"
     ]
    },
    {
     "data": {
      "text/plain": [
       "(6863.552853724133, 0.0)"
      ]
     },
     "execution_count": 53,
     "metadata": {},
     "output_type": "execute_result"
    }
   ],
   "source": [
    "seed = 97198\n",
    "generator = GCL(seed)\n",
    "total_samples = 10000\n",
    "numbers = []\n",
    "for i in range(0, total_samples):\n",
    "\tnumbers.append(generator.next())\n",
    "\n",
    "gap_test(numbers, 0.2, 0.5)"
   ]
  }
 ],
 "metadata": {
  "kernelspec": {
   "display_name": "Python 3",
   "language": "python",
   "name": "python3"
  },
  "language_info": {
   "codemirror_mode": {
    "name": "ipython",
    "version": 3
   },
   "file_extension": ".py",
   "mimetype": "text/x-python",
   "name": "python",
   "nbconvert_exporter": "python",
   "pygments_lexer": "ipython3",
   "version": "3.7.0"
  }
 },
 "nbformat": 4,
 "nbformat_minor": 2
}
