{
 "cells": [
  {
   "cell_type": "code",
   "execution_count": 5,
   "metadata": {},
   "outputs": [
    {
     "name": "stdout",
     "output_type": "stream",
     "text": [
      "11.25 ,  0.046642443562767574\n"
     ]
    }
   ],
   "source": [
    "#Guia 1 - Ejercicio 19\n",
    "\n",
    "import scipy.stats"
   ]
  },
  {
   "cell_type": "code",
   "execution_count": 13,
   "metadata": {},
   "outputs": [
    {
     "name": "stdout",
     "output_type": "stream",
     "text": [
      "0.046642443562767574 ,  11.25 ,  0.9533575564372324\n"
     ]
    }
   ],
   "source": [
    "obt_values = [25,8,17,20,13,13]\n",
    "exp_values = [16,16,16,16,16,16]\n",
    "a = 0.05 #Nivel de significancia\n",
    "\n",
    "s, p = scipy.stats.chisquare(obt_values, exp_values)\n",
    "print(p,\", \", s, \", \", 1-p)"
   ]
  },
  {
   "cell_type": "code",
   "execution_count": 12,
   "metadata": {},
   "outputs": [
    {
     "data": {
      "text/plain": [
       "False"
      ]
     },
     "execution_count": 12,
     "metadata": {},
     "output_type": "execute_result"
    }
   ],
   "source": [
    "(1-p) < a"
   ]
  }
 ],
 "metadata": {
  "kernelspec": {
   "display_name": "Python 3",
   "language": "python",
   "name": "python3"
  },
  "language_info": {
   "name": ""
  }
 },
 "nbformat": 4,
 "nbformat_minor": 2
}
