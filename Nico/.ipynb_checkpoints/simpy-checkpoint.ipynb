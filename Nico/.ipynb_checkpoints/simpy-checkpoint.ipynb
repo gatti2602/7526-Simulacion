{
 "cells": [
  {
   "cell_type": "code",
   "execution_count": 1,
   "metadata": {},
   "outputs": [],
   "source": [
    "import simpy as sp"
   ]
  },
  {
   "cell_type": "code",
   "execution_count": 2,
   "metadata": {},
   "outputs": [],
   "source": [
    "def fibonacci(): \n",
    "    f0 = 0\n",
    "    f1 = 1\n",
    "    yield f1\n",
    "    while True:\n",
    "        f2 = f1 + f0\n",
    "        f0 = f1\n",
    "        f1 = f2\n",
    "        yield f2"
   ]
  },
  {
   "cell_type": "code",
   "execution_count": 3,
   "metadata": {},
   "outputs": [
    {
     "name": "stdout",
     "output_type": "stream",
     "text": [
      "[1, 1, 2, 3, 5, 8, 13, 21, 34, 55]\n"
     ]
    }
   ],
   "source": [
    "f = fibonacci()\n",
    "l = []\n",
    "for i in range(0,10):\n",
    "    l.append(next(f))\n",
    "    \n",
    "print(l)"
   ]
  },
  {
   "cell_type": "code",
   "execution_count": 9,
   "metadata": {},
   "outputs": [
    {
     "name": "stdout",
     "output_type": "stream",
     "text": [
      "2\n",
      "1\n"
     ]
    }
   ],
   "source": [
    "def regression(env,t):\n",
    "    while True: \n",
    "        print (t)\n",
    "        yield env.timeout(1)\n",
    "        t=t-1\n",
    "t= 2\n",
    "env = sp.Environment()\n",
    "env.process(regression(env, t))\n",
    "env.run(until=t)\n",
    "    "
   ]
  },
  {
   "cell_type": "code",
   "execution_count": null,
   "metadata": {},
   "outputs": [],
   "source": [
    "env = sp.Environment()\n",
    "\n"
   ]
  },
  {
   "cell_type": "code",
   "execution_count": 43,
   "metadata": {},
   "outputs": [
    {
     "name": "stdout",
     "output_type": "stream",
     "text": [
      "9\n"
     ]
    }
   ],
   "source": [
    "import random\n",
    "import simpy\n",
    "import numpy\n",
    "\n",
    "maxi = 0\n",
    "\n",
    "client_count = 1000\n",
    "\n",
    "class Client(object): \n",
    "    def __init__(self, env):\n",
    "        self.env = env\n",
    "        self.type = 10 + numpy.random.uniform(-4,+4)\n",
    "\n",
    "    def pay(self, cashier):\n",
    "\t# Automatic release\n",
    "        global maxi\n",
    "        with cashier.request() as req:\n",
    "            if len(cashier.queue) > maxi:\n",
    "                maxi = len(cashier.queue)\n",
    "            yield req\n",
    "            yield self.env.timeout(self.get_pay_duration())\n",
    "\n",
    "\t# Manual release\n",
    "        # request = cashier.request()\n",
    "        # yield request\n",
    "        # yield self.env.timeout(self.get_pay_duration())\n",
    "        # cashier.release(request)\n",
    "\n",
    "       # print(\"%.2f Client type %s attended\" % (self.env.now, self.type))\n",
    "\n",
    "    def get_pay_duration(self):\n",
    "        return self.type\n",
    "\n",
    "\n",
    "def generate_clients(environment, count):\n",
    "    cashier = simpy.Resource(env, capacity = 2)\n",
    "    for i in range(count):\n",
    "        client = Client(env)\n",
    "        environment.process(client.pay(cashier))\n",
    "        t = random.uniform(4,6)\n",
    "        yield environment.timeout(t)\n",
    "\n",
    "\n",
    "env = simpy.Environment()\n",
    "env.process(generate_clients(env, client_count))\n",
    "env.run()\n",
    "\n",
    "print(maxi)\n"
   ]
  },
  {
   "cell_type": "code",
   "execution_count": 129,
   "metadata": {},
   "outputs": [
    {
     "name": "stdout",
     "output_type": "stream",
     "text": [
      "498\n"
     ]
    }
   ],
   "source": [
    "import random\n",
    "import simpy\n",
    "import numpy\n",
    "\n",
    "maxi = 0\n",
    "\n",
    "client_count = 1000\n",
    "\n",
    "class Client(object): \n",
    "    def __init__(self, env):\n",
    "        self.env = env\n",
    "        self.type = 10 + numpy.random.uniform(-4,+4)\n",
    "\n",
    "    def pay(self, cashier):\n",
    "\t# Automatic release\n",
    "        with cashier.request() as req:\n",
    "            yield req\n",
    "            yield self.env.timeout(self.get_pay_duration())\n",
    "\n",
    "\t# Manual release\n",
    "        # request = cashier.request()\n",
    "        # yield request\n",
    "        # yield self.env.timeout(self.get_pay_duration())\n",
    "        # cashier.release(request)\n",
    "\n",
    "       # print(\"%.2f Client type %s attended\" % (self.env.now, self.type))\n",
    "\n",
    "    def get_pay_duration(self):\n",
    "        return self.type\n",
    "\n",
    "\n",
    "def generate_clients(environment, count):\n",
    "    global maxi\n",
    "    cashiers = [simpy.Resource(env, capacity = 1), simpy.Resource(env, capacity = 1)]\n",
    "    for i in range(count):\n",
    "        client = Client(env)\n",
    "        cashier = cashiers[0]\n",
    "        if len(cashiers[0].queue) < len(cashiers[1].queue): \n",
    "            cashier = cashiers[0] if len(cashiers[0].queue) < len(cashiers[1].queue) else cashiers[1]\n",
    "        \n",
    "        if maxi < (len(cashiers[0].queue) + len(cashiers[1].queue)):\n",
    "            maxi = (len(cashiers[0].queue) + len(cashiers[1].queue))\n",
    "        \n",
    "        environment.process(client.pay(cashier))\n",
    "        t = random.uniform(4,6)\n",
    "        yield environment.timeout(t)\n",
    "\n",
    "\n",
    "env = simpy.Environment()\n",
    "env.process(generate_clients(env, client_count))\n",
    "env.run()\n",
    "\n",
    "print(maxi)\n"
   ]
  }
 ],
 "metadata": {
  "kernelspec": {
   "display_name": "Python 3",
   "language": "python",
   "name": "python3"
  },
  "language_info": {
   "codemirror_mode": {
    "name": "ipython",
    "version": 3
   },
   "file_extension": ".py",
   "mimetype": "text/x-python",
   "name": "python",
   "nbconvert_exporter": "python",
   "pygments_lexer": "ipython3",
   "version": "3.7.0"
  }
 },
 "nbformat": 4,
 "nbformat_minor": 2
}
